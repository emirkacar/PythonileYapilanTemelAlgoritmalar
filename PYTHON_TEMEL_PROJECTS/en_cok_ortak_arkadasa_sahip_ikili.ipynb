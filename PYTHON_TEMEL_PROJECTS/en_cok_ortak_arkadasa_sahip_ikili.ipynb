{
 "cells": [
  {
   "cell_type": "code",
   "execution_count": 27,
   "id": "b91487af",
   "metadata": {},
   "outputs": [
    {
     "name": "stdout",
     "output_type": "stream",
     "text": [
      "{('Ali', 'Veli'): 1, ('Ali', 'Ayşe'): 2, ('Ali', 'Fatma'): 1, ('Ali', 'Mehmet'): 1, ('Veli', 'Ayşe'): 1, ('Veli', 'Fatma'): 2, ('Veli', 'Mehmet'): 0, ('Ayşe', 'Fatma'): 1, ('Ayşe', 'Mehmet'): 1, ('Fatma', 'Mehmet'): 0}\n",
      "[('Ali', 'Ayşe'), ('Veli', 'Fatma')]\n"
     ]
    }
   ],
   "source": [
    "arkadaslar = {\n",
    "    \"Ali\": [\"Veli\", \"Ayşe\", \"Fatma\"],\n",
    "    \"Veli\": [\"Ali\", \"Ayşe\", \"Mehmet\"],\n",
    "    \"Ayşe\": [\"Ali\", \"Veli\", \"Fatma\"],\n",
    "    \"Fatma\": [\"Ali\", \"Ayşe\"],\n",
    "    \"Mehmet\": [\"Veli\"]\n",
    "}\n",
    "\n",
    "ortak_arkadas_sozlugu= {}\n",
    "\n",
    "arkadaslar_keys=list(arkadaslar.keys())\n",
    "arkadaslar_values = list(arkadaslar.values())\n",
    "uzunluk = len(arkadaslar_keys)\n",
    "\n",
    "for i in range(uzunluk):\n",
    "    for j in range(i+1,uzunluk):\n",
    "        kisi1=arkadaslar_keys[i]\n",
    "        kisi2 = arkadaslar_keys[j]\n",
    "        kisi1_arkadaslari = arkadaslar[kisi1]\n",
    "        kisi2_arkadaslari =  arkadaslar[kisi2]\n",
    "        ortak_arkadas_sozlugu[(kisi1,kisi2)] = len(list(set(kisi1_arkadaslari) & set(kisi2_arkadaslari)))\n",
    "\n",
    "print(ortak_arkadas_sozlugu)\n",
    "en_cok_ortak = []\n",
    "maksimum_ortak_sayisi = max(ortak_arkadas_sozlugu.values())\n",
    "x = []\n",
    "for k,v in ortak_arkadas_sozlugu.items():\n",
    "    if v==maksimum_ortak_sayisi:\n",
    "        x.append(k)\n",
    "print(x)    \n"
   ]
  }
 ],
 "metadata": {
  "kernelspec": {
   "display_name": "Python 3",
   "language": "python",
   "name": "python3"
  },
  "language_info": {
   "codemirror_mode": {
    "name": "ipython",
    "version": 3
   },
   "file_extension": ".py",
   "mimetype": "text/x-python",
   "name": "python",
   "nbconvert_exporter": "python",
   "pygments_lexer": "ipython3",
   "version": "3.12.3"
  }
 },
 "nbformat": 4,
 "nbformat_minor": 5
}
